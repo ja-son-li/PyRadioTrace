{
 "cells": [
  {
   "cell_type": "code",
   "execution_count": 1,
   "metadata": {},
   "outputs": [],
   "source": [
    "import PyRadioTrace.models as models\n",
    "from PyRadioTrace.models import GeoModel\n",
    "from PyRadioTrace.jones_stephenson import Raytracer\n",
    "import datetime as dt \n",
    "import numpy as np \n",
    "import matplotlib.pyplot as plt\n",
    "import scipy.constants as const"
   ]
  },
  {
   "cell_type": "markdown",
   "metadata": {},
   "source": [
    "# Models"
   ]
  },
  {
   "cell_type": "code",
   "execution_count": 2,
   "metadata": {},
   "outputs": [],
   "source": [
    "test_lat = 40 # degrees\n",
    "test_lon = -110 # degrees\n",
    "test_alt = 40e3 # meters\n",
    "\n",
    "neutral = models.ScaleHeight(N0 = 400, H = 7e3)\n",
    "magneto = models.IGRF(dt.datetime(2023, 1, 1))\n",
    "iono = models.EpsteinLayersModel()"
   ]
  },
  {
   "cell_type": "markdown",
   "metadata": {},
   "source": [
    "All neutral atmosphere models should return the index of refraction as well the spherical spatial derivatives."
   ]
  },
  {
   "cell_type": "code",
   "execution_count": 3,
   "metadata": {},
   "outputs": [
    {
     "data": {
      "text/plain": [
       "(np.float64(1.0000013194023023),\n",
       " array([-1.88486043e-10,  0.00000000e+00,  0.00000000e+00]))"
      ]
     },
     "execution_count": 3,
     "metadata": {},
     "output_type": "execute_result"
    }
   ],
   "source": [
    "neutral(test_lat, test_lon, test_alt)"
   ]
  },
  {
   "cell_type": "markdown",
   "metadata": {},
   "source": [
    "All ionosphere models should return the electron density as well the spherical spatial derivatives."
   ]
  },
  {
   "cell_type": "code",
   "execution_count": 4,
   "metadata": {},
   "outputs": [
    {
     "data": {
      "text/plain": [
       "(np.float64(21935836.509093076),\n",
       " array([935.39927486,   0.        ,   0.        ]))"
      ]
     },
     "execution_count": 4,
     "metadata": {},
     "output_type": "execute_result"
    }
   ],
   "source": [
    "iono(test_lat, test_lon, test_alt)"
   ]
  },
  {
   "cell_type": "markdown",
   "metadata": {},
   "source": [
    "The IGRF object returns the magnetic field, magnetic jacobian, and magnetic field strength spherical derivatives. "
   ]
  },
  {
   "cell_type": "code",
   "execution_count": 5,
   "metadata": {},
   "outputs": [
    {
     "data": {
      "text/plain": [
       "(array([[-3.57350256e+98],\n",
       "        [ 8.91385642e+97],\n",
       "        [-9.57329235e+97]]),\n",
       " array([[[ 3.57350256e+95],\n",
       "         [-2.16218843e+97],\n",
       "         [-2.18299095e+96]],\n",
       " \n",
       "        [[-8.91385642e+94],\n",
       "         [-1.29969497e+98],\n",
       "         [-8.10884744e+96]],\n",
       " \n",
       "        [[ 9.57329235e+94],\n",
       "         [ 1.04755516e+98],\n",
       "         [-3.01328857e+96]]]),\n",
       " array([[3.80538673e+95],\n",
       "        [1.68324966e+98],\n",
       "        [8.92181396e+96]]))"
      ]
     },
     "execution_count": 5,
     "metadata": {},
     "output_type": "execute_result"
    }
   ],
   "source": [
    "magneto(test_lat, test_lon, test_alt)"
   ]
  },
  {
   "cell_type": "markdown",
   "metadata": {},
   "source": [
    "# Raytracing "
   ]
  },
  {
   "cell_type": "markdown",
   "metadata": {},
   "source": [
    "Instantiate a Raytracer object with the models above "
   ]
  },
  {
   "cell_type": "code",
   "execution_count": 6,
   "metadata": {},
   "outputs": [],
   "source": [
    "Raytrace  = Raytracer(iono = iono, magneto = None, neutral = neutral)"
   ]
  },
  {
   "cell_type": "code",
   "execution_count": 7,
   "metadata": {},
   "outputs": [],
   "source": [
    "rtol = 1e-10\n",
    "atol = 1e-8\n",
    "transmit_lat = 0\n",
    "transmit_lon = 7.5\n",
    "transmit_alt = 800e3\n",
    "f = 1575.42e6\n",
    "\n",
    "az = 90\n",
    "el = -10"
   ]
  },
  {
   "cell_type": "code",
   "execution_count": null,
   "metadata": {},
   "outputs": [],
   "source": [
    "distances_to_evaluate = np.arange(0, 100e3, 1)"
   ]
  },
  {
   "cell_type": "code",
   "execution_count": null,
   "metadata": {},
   "outputs": [],
   "source": [
    "ray_solution = Raytrace.ray_propagate(transmit_lat,\n",
    "                                    transmit_lon, \n",
    "                                    transmit_alt,\n",
    "                                    az,\n",
    "                                    el,\n",
    "                                    f, \n",
    "                                    group_path_distances = distances_to_evaluate,\n",
    "                                    rtol = rtol,\n",
    "                                    atol = atol)\n",
    "ray_solution"
   ]
  }
 ],
 "metadata": {
  "kernelspec": {
   "display_name": "raytrace",
   "language": "python",
   "name": "python3"
  },
  "language_info": {
   "codemirror_mode": {
    "name": "ipython",
    "version": 3
   },
   "file_extension": ".py",
   "mimetype": "text/x-python",
   "name": "python",
   "nbconvert_exporter": "python",
   "pygments_lexer": "ipython3",
   "version": "3.10.16"
  }
 },
 "nbformat": 4,
 "nbformat_minor": 2
}
