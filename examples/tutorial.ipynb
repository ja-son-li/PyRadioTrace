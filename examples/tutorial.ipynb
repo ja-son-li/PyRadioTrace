{
 "cells": [
  {
   "cell_type": "code",
   "execution_count": 1,
   "metadata": {},
   "outputs": [],
   "source": [
    "import PyRadioTrace.models as models\n",
    "from PyRadioTrace.models import GeoModel\n",
    "from PyRadioTrace.jones_stephenson import Raytracer\n",
    "import datetime as dt \n",
    "import numpy as np \n",
    "import matplotlib.pyplot as plt\n",
    "import scipy.constants as const"
   ]
  },
  {
   "cell_type": "markdown",
   "metadata": {},
   "source": [
    "# Models"
   ]
  },
  {
   "cell_type": "code",
   "execution_count": 2,
   "metadata": {},
   "outputs": [],
   "source": [
    "test_lat = 40 # degrees\n",
    "test_lon = -110 # degrees\n",
    "test_alt = 40e3 # meters\n",
    "\n",
    "neutral = models.ScaleHeight(N0 = 400, H = 7e3)\n",
    "magneto = models.IGRF(dt.datetime(2023, 1, 1))\n",
    "iono = models.EpsteinLayersModel()"
   ]
  },
  {
   "cell_type": "markdown",
   "metadata": {},
   "source": [
    "All neutral atmosphere models should return the index of refraction as well the spherical spatial derivatives."
   ]
  },
  {
   "cell_type": "code",
   "execution_count": 3,
   "metadata": {},
   "outputs": [
    {
     "data": {
      "text/plain": [
       "(np.float64(1.0000013194023023),\n",
       " array([-1.88486043e-10,  0.00000000e+00,  0.00000000e+00]))"
      ]
     },
     "execution_count": 3,
     "metadata": {},
     "output_type": "execute_result"
    }
   ],
   "source": [
    "neutral(test_lat, test_lon, test_alt)"
   ]
  },
  {
   "cell_type": "markdown",
   "metadata": {},
   "source": [
    "All ionosphere models should return the electron density as well the spherical spatial derivatives."
   ]
  },
  {
   "cell_type": "code",
   "execution_count": 4,
   "metadata": {},
   "outputs": [
    {
     "data": {
      "text/plain": [
       "(21935836.509093076, array([935.39927486,   0.        ,   0.        ]))"
      ]
     },
     "execution_count": 4,
     "metadata": {},
     "output_type": "execute_result"
    }
   ],
   "source": [
    "iono(test_lat, test_lon, test_alt)"
   ]
  },
  {
   "cell_type": "markdown",
   "metadata": {},
   "source": [
    "The IGRF object returns the magnetic field vector, magnetic field jacobian, and magnetic field strength spherical derivatives. "
   ]
  },
  {
   "cell_type": "code",
   "execution_count": 5,
   "metadata": {},
   "outputs": [
    {
     "data": {
      "text/plain": [
       "(array([[-3.57350256e+98],\n",
       "        [ 8.91385642e+97],\n",
       "        [-9.57329235e+97]]),\n",
       " array([[[ 3.57350256e+95],\n",
       "         [-2.16218843e+97],\n",
       "         [-2.18299095e+96]],\n",
       " \n",
       "        [[-8.91385642e+94],\n",
       "         [-1.29969497e+98],\n",
       "         [-8.10884744e+96]],\n",
       " \n",
       "        [[ 9.57329235e+94],\n",
       "         [ 1.04755516e+98],\n",
       "         [-3.01328857e+96]]]),\n",
       " array([[3.80538673e+95],\n",
       "        [1.68324966e+98],\n",
       "        [8.92181396e+96]]))"
      ]
     },
     "execution_count": 5,
     "metadata": {},
     "output_type": "execute_result"
    }
   ],
   "source": [
    "magneto(test_lat, test_lon, test_alt)"
   ]
  },
  {
   "cell_type": "markdown",
   "metadata": {},
   "source": [
    "# Raytracing "
   ]
  },
  {
   "cell_type": "markdown",
   "metadata": {},
   "source": [
    "Instantiate a Raytracer object with the models above "
   ]
  },
  {
   "cell_type": "code",
   "execution_count": 6,
   "metadata": {},
   "outputs": [],
   "source": [
    "Raytrace  = Raytracer(iono = iono, magneto = None, neutral = neutral)"
   ]
  },
  {
   "cell_type": "code",
   "execution_count": 7,
   "metadata": {},
   "outputs": [],
   "source": [
    "rtol = 1e-10\n",
    "atol = 1e-8\n",
    "transmit_lat = 0\n",
    "transmit_lon = 0.5\n",
    "transmit_alt = 800e3\n",
    "f = 1575.42e6\n",
    "\n",
    "az = 90\n",
    "el = -10"
   ]
  },
  {
   "cell_type": "code",
   "execution_count": 8,
   "metadata": {},
   "outputs": [],
   "source": [
    "distances_to_evaluate = np.arange(0, 100e3, 1)"
   ]
  },
  {
   "cell_type": "code",
   "execution_count": 9,
   "metadata": {},
   "outputs": [
    {
     "data": {
      "text/plain": [
       "  message: The solver successfully reached the end of the integration interval.\n",
       "  success: True\n",
       "   status: 0\n",
       "        t: [ 0.000e+00  1.000e+00 ...  1.000e+05  1.000e+05]\n",
       "        y: [[ 7.178e+06  7.178e+06 ...  7.161e+06  7.161e+06]\n",
       "            [ 1.571e+00  1.571e+00 ...  1.571e+00  1.571e+00]\n",
       "            ...\n",
       "            [ 0.000e+00 -1.000e+00 ... -1.000e+05 -1.000e+05]\n",
       "            [ 0.000e+00  1.000e+00 ...  1.000e+05  1.000e+05]]\n",
       "      sol: None\n",
       " t_events: None\n",
       " y_events: None\n",
       "     nfev: 56\n",
       "     njev: 0\n",
       "      nlu: 0"
      ]
     },
     "execution_count": 9,
     "metadata": {},
     "output_type": "execute_result"
    }
   ],
   "source": [
    "ray_solution = Raytrace.ray_propagate(transmit_lat,\n",
    "                                    transmit_lon, \n",
    "                                    transmit_alt,\n",
    "                                    az,\n",
    "                                    el,\n",
    "                                    f, \n",
    "                                    group_path_distances = distances_to_evaluate,\n",
    "                                    rtol = rtol,\n",
    "                                    atol = atol)\n",
    "ray_solution"
   ]
  },
  {
   "cell_type": "markdown",
   "metadata": {},
   "source": [
    "Convert solution to ECEF or geodetic coordinates"
   ]
  },
  {
   "cell_type": "code",
   "execution_count": 10,
   "metadata": {},
   "outputs": [],
   "source": [
    "path_x, path_y, path_z = GeoModel.convert_spherical_to_ecef(ray_solution.y[0,:], ray_solution.y[1,:], ray_solution.y[2,:])\n",
    "path_lats_both, path_lons_both, path_alts_both = GeoModel.convert_spherical_to_lla(ray_solution.y[0,:], ray_solution.y[1,:], ray_solution.y[2,:])"
   ]
  },
  {
   "cell_type": "markdown",
   "metadata": {},
   "source": [
    "# Rayhoming"
   ]
  },
  {
   "cell_type": "code",
   "execution_count": 11,
   "metadata": {},
   "outputs": [],
   "source": [
    "receive_lat = 0\n",
    "receive_lon = 105\n",
    "receive_alt = 20200e3\n"
   ]
  },
  {
   "cell_type": "markdown",
   "metadata": {},
   "source": [
    "Calculate the straight line az and el "
   ]
  },
  {
   "cell_type": "code",
   "execution_count": 12,
   "metadata": {},
   "outputs": [],
   "source": [
    "az, el, range_val = GeoModel.geodetic2aer(transmit_lat, transmit_lon, transmit_alt, receive_lat, receive_lon, receive_alt)"
   ]
  },
  {
   "cell_type": "code",
   "execution_count": 20,
   "metadata": {},
   "outputs": [
    {
     "name": "stdout",
     "output_type": "stream",
     "text": [
      " message: Solution found.\n",
      " success: True\n",
      "  status: 0\n",
      "     fun: 6.123233995736766e-17\n",
      "       x: -27.913195772520098\n",
      "     nit: 26\n",
      "    nfev: 26\n",
      "         813588 function calls (813581 primitive calls) in 3.176 seconds\n",
      "\n",
      "   Ordered by: internal time\n",
      "   List reduced from 185 to 20 due to restriction <20>\n",
      "\n",
      "   ncalls  tottime  percall  cumtime  percall filename:lineno(function)\n",
      "       28    0.825    0.029    1.458    0.052 /home/jason/anaconda3/envs/raytrace/lib/python3.10/site-packages/scipy/integrate/_ivp/rk.py:560(_call_impl)\n",
      "       28    0.484    0.017    0.484    0.017 {method 'cumprod' of 'numpy.ndarray' objects}\n",
      "       26    0.444    0.017    0.444    0.017 /home/jason/Documents/research/raytracing/gnssro_raytracer/PyTrace/src/PyRadioTrace/models.py:123(distance_between_two_spherical_vectors)\n",
      "       52    0.160    0.003    0.161    0.003 /home/jason/anaconda3/envs/raytrace/lib/python3.10/site-packages/numpy/_core/shape_base.py:294(hstack)\n",
      "       28    0.147    0.005    0.147    0.005 {method 'repeat' of 'numpy.ndarray' objects}\n",
      "     5287    0.147    0.000    0.824    0.000 /home/jason/anaconda3/envs/raytrace/lib/python3.10/site-packages/scipy/integrate/_ivp/rk.py:14(rk_step)\n",
      "    63548    0.098    0.000    0.242    0.000 /home/jason/Documents/research/raytracing/gnssro_raytracer/PyTrace/src/PyRadioTrace/models.py:167(convert_spherical_to_lla)\n",
      "    16597    0.089    0.000    0.201    0.000 /home/jason/Documents/research/raytracing/gnssro_raytracer/PyTrace/src/PyRadioTrace/jones_stephenson.py:228(derivatives_neutral)\n",
      "    15177    0.085    0.000    0.206    0.000 /home/jason/Documents/research/raytracing/gnssro_raytracer/PyTrace/src/PyRadioTrace/jones_stephenson.py:258(derivatives_ionosphere)\n",
      "    63626    0.082    0.000    0.101    0.000 /home/jason/anaconda3/envs/raytrace/lib/python3.10/site-packages/pyproj/transformer.py:716(transform)\n",
      "    31774    0.061    0.000    0.599    0.000 /home/jason/Documents/research/raytracing/gnssro_raytracer/PyTrace/src/PyRadioTrace/jones_stephenson.py:283(derivatives)\n",
      "       26    0.060    0.002    2.675    0.103 /home/jason/anaconda3/envs/raytrace/lib/python3.10/site-packages/scipy/integrate/_ivp/ivp.py:159(solve_ivp)\n",
      "     3829    0.048    0.000    0.929    0.000 /home/jason/anaconda3/envs/raytrace/lib/python3.10/site-packages/scipy/integrate/_ivp/rk.py:111(_step_impl)\n",
      "    15177    0.040    0.000    0.051    0.000 /home/jason/Documents/research/raytracing/gnssro_raytracer/PyTrace/src/PyRadioTrace/models.py:194(__call__)\n",
      "       26    0.035    0.001    0.035    0.001 /home/jason/anaconda3/envs/raytrace/lib/python3.10/site-packages/numpy/lib/_function_base_impl.py:1386(diff)\n",
      "    16597    0.032    0.000    0.040    0.000 /home/jason/Documents/research/raytracing/gnssro_raytracer/PyTrace/src/PyRadioTrace/models.py:551(__call__)\n",
      "    37272    0.029    0.000    0.029    0.000 {built-in method numpy.asarray}\n",
      "    63548    0.029    0.000    0.129    0.000 /home/jason/Documents/research/raytracing/gnssro_raytracer/PyTrace/src/PyRadioTrace/models.py:101(convert_ecef_to_lla)\n",
      "      260    0.028    0.000    0.028    0.000 {method 'reduce' of 'numpy.ufunc' objects}\n",
      "       26    0.021    0.001    3.172    0.122 /home/jason/Documents/research/raytracing/gnssro_raytracer/PyTrace/src/PyRadioTrace/jones_stephenson.py:62(optimization_function)\n",
      "\n",
      "\n"
     ]
    }
   ],
   "source": [
    "import cProfile\n",
    "from pstats import SortKey\n",
    "import pstats\n",
    "with cProfile.Profile() as pr:\n",
    "    solution = Raytrace.ray_home_onedim(transmit_lat, transmit_lon, transmit_alt, receive_lat, receive_lon, receive_alt, f, xatol=1e-10, resolution_m = 0.1, rtol = rtol, atol = atol)\n",
    "    print(solution)\n",
    "    stats = pstats.Stats(pr)\n",
    "    stats.sort_stats(SortKey.TIME).print_stats(20)  # Sort by total time"
   ]
  }
 ],
 "metadata": {
  "kernelspec": {
   "display_name": "raytrace",
   "language": "python",
   "name": "python3"
  },
  "language_info": {
   "codemirror_mode": {
    "name": "ipython",
    "version": 3
   },
   "file_extension": ".py",
   "mimetype": "text/x-python",
   "name": "python",
   "nbconvert_exporter": "python",
   "pygments_lexer": "ipython3",
   "version": "3.10.16"
  }
 },
 "nbformat": 4,
 "nbformat_minor": 2
}
